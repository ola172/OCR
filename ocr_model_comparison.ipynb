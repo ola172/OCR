{
 "cells": [
  {
   "cell_type": "code",
   "execution_count": 2,
   "metadata": {},
   "outputs": [],
   "source": [
    "import easyocr\n",
    "import psutil\n",
    "import time\n",
    "import pytesseract\n",
    "import GPUtil\n",
    "from PIL import Image\n",
    "import pandas as pd"
   ]
  },
  {
   "cell_type": "code",
   "execution_count": 26,
   "metadata": {},
   "outputs": [],
   "source": [
    "# Tesseract OCR\n",
    "def run_tesseract(image_path):\n",
    "    img = Image.open(image_path)\n",
    "    return pytesseract.image_to_string(img)"
   ]
  },
  {
   "cell_type": "code",
   "execution_count": 27,
   "metadata": {},
   "outputs": [],
   "source": [
    "def run_easyocr_gpu(image_path):\n",
    "    reader = easyocr.Reader(['en'])\n",
    "    return reader.readtext(image_path)\n",
    "\n",
    "def run_easyocr_cpu(image_path):\n",
    "    reader = easyocr.Reader(['en'], gpu=False)\n",
    "    return reader.readtext(image_path)"
   ]
  },
  {
   "cell_type": "code",
   "execution_count": null,
   "metadata": {},
   "outputs": [],
   "source": [
    "def monitor_gpu_usage():\n",
    "    gpus = GPUtil.getGPUs()\n",
    "    for gpu in gpus:\n",
    "        return gpu.id, gpu.load* 100, gpu.memoryUsed"
   ]
  },
  {
   "cell_type": "code",
   "execution_count": 42,
   "metadata": {},
   "outputs": [],
   "source": [
    "def track_resources(ocr_function, **args):\n",
    "    process = psutil.Process()\n",
    "    start_time = time.time()\n",
    "    ocr_function(**args)\n",
    "    end_time = time.time()\n",
    "    memory_usage = process.memory_info().rss / 1024 / 1024  # in MB\n",
    "    cpu_percent = process.cpu_percent(interval=1)\n",
    "    return end_time - start_time, memory_usage, cpu_percent"
   ]
  },
  {
   "cell_type": "code",
   "execution_count": 43,
   "metadata": {},
   "outputs": [],
   "source": [
    "image_paths = [\"test_images/testocr.png\",\n",
    "               \"test_images/distorted_text.jpg\",\n",
    "               \"test_images/largepreview.png\",\n",
    "               \"test_images/sample1.a36a230755dc.jpg\",\n",
    "               \"test_images/Handwriting-test-dataset-for-OCR-operation.png\",\n",
    "               \"test_images/mixed_fonts.jpg\",\n",
    "               \"test_images/low_contrast.jpg\",\n",
    "               \"test_images/computer-vision.jpg\"]"
   ]
  },
  {
   "cell_type": "markdown",
   "metadata": {},
   "source": [
    "## Tesseract"
   ]
  },
  {
   "cell_type": "code",
   "execution_count": 36,
   "metadata": {},
   "outputs": [
    {
     "name": "stdout",
     "output_type": "stream",
     "text": [
      "Tesseract - Time: 0.4038863182067871, Memory: 1008.734375, CPU: 0.0\n",
      "Tesseract - Time: 0.32141709327697754, Memory: 1009.109375, CPU: 0.0\n",
      "Tesseract - Time: 1.4074363708496094, Memory: 1009.109375, CPU: 0.0\n",
      "Tesseract - Time: 1.130180835723877, Memory: 1009.109375, CPU: 0.0\n",
      "Tesseract - Time: 0.43622303009033203, Memory: 1009.109375, CPU: 0.0\n",
      "Tesseract - Time: 0.459735631942749, Memory: 1009.109375, CPU: 0.0\n",
      "Tesseract - Time: 0.28943586349487305, Memory: 1009.109375, CPU: 0.0\n",
      "Tesseract - Time: 0.7870125770568848, Memory: 1009.109375, CPU: 0.0\n"
     ]
    }
   ],
   "source": [
    "all_time = 0\n",
    "all_memory = 0\n",
    "all_cpu = 0\n",
    "\n",
    "for image in image_paths:\n",
    "    # Tesseract results\n",
    "    time_tess, memory_tess, cpu_tess = track_resources(ocr_function=run_tesseract, image_path=image)\n",
    "    print(f\"Tesseract - Time: {time_tess}, Memory: {memory_tess}, CPU: {cpu_tess}\")\n",
    "\n",
    "    all_time += time_tess\n",
    "    all_memory += memory_tess\n",
    "    all_cpu += cpu_tess\n"
   ]
  },
  {
   "cell_type": "code",
   "execution_count": 38,
   "metadata": {},
   "outputs": [
    {
     "name": "stdout",
     "output_type": "stream",
     "text": [
      "average_time: 0.6544159650802612, average_memory: 1009.0625, average_cpu: 0.0\n"
     ]
    }
   ],
   "source": [
    "print(f\"average_time: {all_time/8}, average_memory: {all_memory/8}, average_cpu: {all_cpu/8}\")"
   ]
  },
  {
   "cell_type": "markdown",
   "metadata": {},
   "source": [
    "## Easyocr with CPU"
   ]
  },
  {
   "cell_type": "code",
   "execution_count": 39,
   "metadata": {},
   "outputs": [
    {
     "name": "stderr",
     "output_type": "stream",
     "text": [
      "Using CPU. Note: This module is much faster with a GPU.\n",
      "Using CPU. Note: This module is much faster with a GPU.\n"
     ]
    },
    {
     "name": "stdout",
     "output_type": "stream",
     "text": [
      "EasyOCR (CPU) - Time: 5.899929523468018, Memory: 1176.67578125, CPU: 4.0\n"
     ]
    },
    {
     "name": "stderr",
     "output_type": "stream",
     "text": [
      "Using CPU. Note: This module is much faster with a GPU.\n"
     ]
    },
    {
     "name": "stdout",
     "output_type": "stream",
     "text": [
      "EasyOCR (CPU) - Time: 5.177687406539917, Memory: 1157.546875, CPU: 3.0\n"
     ]
    },
    {
     "name": "stderr",
     "output_type": "stream",
     "text": [
      "Using CPU. Note: This module is much faster with a GPU.\n"
     ]
    },
    {
     "name": "stdout",
     "output_type": "stream",
     "text": [
      "EasyOCR (CPU) - Time: 18.357693672180176, Memory: 1195.875, CPU: 8.0\n"
     ]
    },
    {
     "name": "stderr",
     "output_type": "stream",
     "text": [
      "Using CPU. Note: This module is much faster with a GPU.\n"
     ]
    },
    {
     "name": "stdout",
     "output_type": "stream",
     "text": [
      "EasyOCR (CPU) - Time: 6.388930320739746, Memory: 1241.10546875, CPU: 4.0\n"
     ]
    },
    {
     "name": "stderr",
     "output_type": "stream",
     "text": [
      "Using CPU. Note: This module is much faster with a GPU.\n"
     ]
    },
    {
     "name": "stdout",
     "output_type": "stream",
     "text": [
      "EasyOCR (CPU) - Time: 6.693471431732178, Memory: 1439.6171875, CPU: 7.0\n"
     ]
    },
    {
     "name": "stderr",
     "output_type": "stream",
     "text": [
      "Using CPU. Note: This module is much faster with a GPU.\n"
     ]
    },
    {
     "name": "stdout",
     "output_type": "stream",
     "text": [
      "EasyOCR (CPU) - Time: 6.663943290710449, Memory: 1486.33203125, CPU: 7.0\n"
     ]
    },
    {
     "name": "stderr",
     "output_type": "stream",
     "text": [
      "Using CPU. Note: This module is much faster with a GPU.\n"
     ]
    },
    {
     "name": "stdout",
     "output_type": "stream",
     "text": [
      "EasyOCR (CPU) - Time: 5.065858840942383, Memory: 1487.31640625, CPU: 7.0\n",
      "EasyOCR (CPU) - Time: 13.13253378868103, Memory: 1529.15234375, CPU: 4.0\n",
      "average_time: 8.422506034374237, average_memory: 1339.20263671875, average_cpu: 5.5\n"
     ]
    }
   ],
   "source": [
    "all_time = 0\n",
    "all_memory = 0\n",
    "all_cpu = 0\n",
    "\n",
    "for image in image_paths:\n",
    "    # easyocr (cpu) results\n",
    "    time_tess, memory_tess, cpu_tess = track_resources(ocr_function=run_easyocr_cpu, image_path=image)\n",
    "    print(f\"EasyOCR (CPU) - Time: {time_tess}, Memory: {memory_tess}, CPU: {cpu_tess}\")\n",
    "\n",
    "    all_time += time_tess\n",
    "    all_memory += memory_tess\n",
    "    all_cpu += cpu_tess\n",
    "\n",
    "print(f\"average_time: {all_time/8}, average_memory: {all_memory/8}, average_cpu: {all_cpu/8}\")"
   ]
  },
  {
   "cell_type": "markdown",
   "metadata": {},
   "source": [
    "## EasyOCR (GPU)"
   ]
  },
  {
   "cell_type": "code",
   "execution_count": 45,
   "metadata": {},
   "outputs": [
    {
     "name": "stdout",
     "output_type": "stream",
     "text": [
      "(0, 0.0, 927.0)\n",
      "EasyOCR (GPU) - Time: 3.202956199645996, Memory: 1614.09765625, CPU: 1.0\n",
      "EasyOCR (GPU) - : pu_id: 0, gpu_memory: 927.0, gpu_load: 0.0\n",
      "(0, 0.0, 927.0)\n",
      "EasyOCR (GPU) - Time: 2.940523386001587, Memory: 1614.21875, CPU: 0.0\n",
      "EasyOCR (GPU) - : pu_id: 0, gpu_memory: 927.0, gpu_load: 0.0\n",
      "(0, 0.0, 927.0)\n",
      "EasyOCR (GPU) - Time: 10.073514699935913, Memory: 1614.4296875, CPU: 0.0\n",
      "EasyOCR (GPU) - : pu_id: 0, gpu_memory: 927.0, gpu_load: 0.0\n",
      "(0, 0.0, 927.0)\n",
      "EasyOCR (GPU) - Time: 5.047790050506592, Memory: 1614.453125, CPU: 0.0\n",
      "EasyOCR (GPU) - : pu_id: 0, gpu_memory: 927.0, gpu_load: 0.0\n",
      "(0, 0.0, 927.0)\n",
      "EasyOCR (GPU) - Time: 4.961219072341919, Memory: 1614.47265625, CPU: 0.0\n",
      "EasyOCR (GPU) - : pu_id: 0, gpu_memory: 927.0, gpu_load: 0.0\n",
      "(0, 0.0, 927.0)\n",
      "EasyOCR (GPU) - Time: 4.182440519332886, Memory: 1614.5078125, CPU: 0.0\n",
      "EasyOCR (GPU) - : pu_id: 0, gpu_memory: 927.0, gpu_load: 0.0\n",
      "(0, 0.0, 927.0)\n",
      "EasyOCR (GPU) - Time: 4.054136037826538, Memory: 1614.4609375, CPU: 1.0\n",
      "EasyOCR (GPU) - : pu_id: 0, gpu_memory: 927.0, gpu_load: 0.0\n",
      "(0, 0.0, 927.0)\n",
      "EasyOCR (GPU) - Time: 5.8182759284973145, Memory: 1614.4609375, CPU: 0.0\n",
      "EasyOCR (GPU) - : pu_id: 0, gpu_memory: 927.0, gpu_load: 0.0\n",
      "average_time: 5.035106986761093, average_memory: 1614.3876953125, average_cpu: 0.25\n"
     ]
    }
   ],
   "source": [
    "all_time = 0\n",
    "all_memory = 0\n",
    "all_cpu = 0\n",
    "all_gpu_memory = 0\n",
    "all_gpu_load = 0\n",
    "\n",
    "for image in image_paths:\n",
    "    # easyocr (cpu) results\n",
    "    time_tess, memory_tess, cpu_tess = track_resources(ocr_function=run_easyocr_gpu, image_path=image)\n",
    "    gpu_id, gpu_load, gpu_memory = monitor_gpu_usage()\n",
    "    print(f\"EasyOCR (GPU) - Time: {time_tess}, Memory: {memory_tess}, CPU: {cpu_tess}\")\n",
    "    print(f\"EasyOCR (GPU) - : pu_id: {gpu_id}, gpu_memory: {gpu_memory}, gpu_load: {gpu_load}\")\n",
    "\n",
    "    all_time += time_tess\n",
    "    all_memory += memory_tess\n",
    "    all_cpu += cpu_tess\n",
    "    all_gpu_memory += gpu_memory\n",
    "    all_gpu_load += gpu_load\n",
    "\n",
    "print(f\"average_time: {all_time/8}, average_memory: {all_memory/8}, average_cpu: {all_cpu/8}\")"
   ]
  },
  {
   "cell_type": "code",
   "execution_count": 46,
   "metadata": {},
   "outputs": [
    {
     "name": "stdout",
     "output_type": "stream",
     "text": [
      "average_gpu_memory: 927.0, average_gpu: 0.0\n"
     ]
    }
   ],
   "source": [
    "print(f\"average_gpu_memory: {all_gpu_memory/8}, average_gpu: {all_gpu_load/8}\")"
   ]
  },
  {
   "cell_type": "markdown",
   "metadata": {},
   "source": [
    "-----------------"
   ]
  },
  {
   "cell_type": "markdown",
   "metadata": {},
   "source": [
    "## Conclusion"
   ]
  },
  {
   "cell_type": "markdown",
   "metadata": {},
   "source": [
    "## For Installation \n",
    "#### - EasyOCR is easier than tesseract in instalation as it require install model independently and then install related dependencies in python."
   ]
  },
  {
   "cell_type": "markdown",
   "metadata": {},
   "source": [
    "## For Resoures comsuption\n",
    "#### I calculate average resources consuption for different 8 image for each model. \n",
    "#### Following table describe that"
   ]
  },
  {
   "cell_type": "code",
   "execution_count": 3,
   "metadata": {},
   "outputs": [
    {
     "data": {
      "text/html": [
       "<div>\n",
       "<style scoped>\n",
       "    .dataframe tbody tr th:only-of-type {\n",
       "        vertical-align: middle;\n",
       "    }\n",
       "\n",
       "    .dataframe tbody tr th {\n",
       "        vertical-align: top;\n",
       "    }\n",
       "\n",
       "    .dataframe thead th {\n",
       "        text-align: right;\n",
       "    }\n",
       "</style>\n",
       "<table border=\"1\" class=\"dataframe\">\n",
       "  <thead>\n",
       "    <tr style=\"text-align: right;\">\n",
       "      <th></th>\n",
       "      <th>model</th>\n",
       "      <th>Num of images</th>\n",
       "      <th>CPU usage</th>\n",
       "      <th>GPU Usage</th>\n",
       "      <th>gpu memory usage</th>\n",
       "      <th>Memory Usage</th>\n",
       "      <th>Speed</th>\n",
       "    </tr>\n",
       "  </thead>\n",
       "  <tbody>\n",
       "    <tr>\n",
       "      <th>0</th>\n",
       "      <td>easyocr (cpu) (average)</td>\n",
       "      <td>8</td>\n",
       "      <td>5.5%</td>\n",
       "      <td>0.0</td>\n",
       "      <td>0.0</td>\n",
       "      <td>1339.20263671875 MB</td>\n",
       "      <td>8.422506034374237 s</td>\n",
       "    </tr>\n",
       "    <tr>\n",
       "      <th>1</th>\n",
       "      <td>easyocr (gpu) (average)</td>\n",
       "      <td>8</td>\n",
       "      <td>0.25%</td>\n",
       "      <td>0.0</td>\n",
       "      <td>927.0 MB</td>\n",
       "      <td>91614.3876953125 MB</td>\n",
       "      <td>5.035106986761093 s</td>\n",
       "    </tr>\n",
       "    <tr>\n",
       "      <th>2</th>\n",
       "      <td>tesseract (average)</td>\n",
       "      <td>8</td>\n",
       "      <td>0.0%</td>\n",
       "      <td>0.0</td>\n",
       "      <td>0.0</td>\n",
       "      <td>1009.0625 MB</td>\n",
       "      <td>0.6544159650802612 s</td>\n",
       "    </tr>\n",
       "  </tbody>\n",
       "</table>\n",
       "</div>"
      ],
      "text/plain": [
       "                     model  ...                 Speed\n",
       "0  easyocr (cpu) (average)  ...   8.422506034374237 s\n",
       "1  easyocr (gpu) (average)  ...   5.035106986761093 s\n",
       "2      tesseract (average)  ...  0.6544159650802612 s\n",
       "\n",
       "[3 rows x 7 columns]"
      ]
     },
     "execution_count": 3,
     "metadata": {},
     "output_type": "execute_result"
    }
   ],
   "source": [
    "df = pd.DataFrame(columns=[\"model\", \"Num of images\" ,\"CPU usage\", \"GPU Usage\",\"gpu memory usage\", \"Memory Usage\", \"Speed\"],\n",
    "                  data=[[\"easyocr (cpu) (average)\", 8, \"5.5%\",\"0.0\",\"0.0\",\"1339.20263671875 MB\",\"8.422506034374237 s\"],\n",
    "                        [\"easyocr (gpu) (average)\", 8,\"0.25%\",\"0.0\",\"927.0 MB\",\"91614.3876953125 MB\",\"5.035106986761093 s\"],\n",
    "                        [\"tesseract (average)\", 8, \"0.0%\",\"0.0\",\"0.0\", \"1009.0625 MB\", \"0.6544159650802612 s\"]])\n",
    "\n",
    "df.head(10)"
   ]
  }
 ],
 "metadata": {
  "kernelspec": {
   "display_name": ".venv",
   "language": "python",
   "name": "python3"
  },
  "language_info": {
   "codemirror_mode": {
    "name": "ipython",
    "version": 3
   },
   "file_extension": ".py",
   "mimetype": "text/x-python",
   "name": "python",
   "nbconvert_exporter": "python",
   "pygments_lexer": "ipython3",
   "version": "3.12.6"
  }
 },
 "nbformat": 4,
 "nbformat_minor": 2
}
